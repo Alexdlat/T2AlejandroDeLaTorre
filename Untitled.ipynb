{
 "cells": [
  {
   "cell_type": "markdown",
   "metadata": {},
   "source": [
    "# Python is becoming the world’s most popular coding language\n",
    "\n",
    "Este programa ha tenido un gran crecimiento. En las últimas tres décadas ha acabado con la gran mayoría de sus rivales. Las dos grandes ventajas de este programa es su simplicidad y su flexibilidad. La gran mayoría de páginas web o aplicaciones que utilizamos en nuestro día a día requieren de Python para una u otra cosa."
   ]
  }
 ],
 "metadata": {
  "kernelspec": {
   "display_name": "Python 3",
   "language": "python",
   "name": "python3"
  },
  "language_info": {
   "codemirror_mode": {
    "name": "ipython",
    "version": 3
   },
   "file_extension": ".py",
   "mimetype": "text/x-python",
   "name": "python",
   "nbconvert_exporter": "python",
   "pygments_lexer": "ipython3",
   "version": "3.7.1"
  }
 },
 "nbformat": 4,
 "nbformat_minor": 2
}
