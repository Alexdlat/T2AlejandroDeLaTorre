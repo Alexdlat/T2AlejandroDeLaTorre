{
 "cells": [
  {
   "cell_type": "markdown",
   "metadata": {},
   "source": [
    "# Python is becoming the world’s most popular coding language\n",
    "\n",
    "Este programa ha tenido un gran crecimiento. En las últimas tres décadas ha acabado con la gran mayoría de sus rivales. Las dos grandes ventajas de este programa es su simplicidad y su flexibilidad. La gran mayoría de páginas web o aplicaciones que utilizamos en nuestro día a día requieren de Python para una u otra cosa.\n",
    "\n",
    "# Python has brought computer programming to a vast new audience\n",
    "\n",
    "En diciembre de 1989, Guido van Rossum comenzó con el proyecto de crear un programa de programación con un lenguaje mas fácil. Primero, tenía que ser fácil de leer. Segundo, dejar crear a los usuarios sus propios paquetes de programación con algún propósito en especial. Y por último, un nombre corto y misterioso"
   ]
  },
  {
   "cell_type": "markdown",
   "metadata": {},
   "source": [
    "# Python has brought computer programming to a vast new audience\n",
    "\n",
    "En diciembre de 1989, Guido van Rossum comenzó con el proyecto de crear un programa de programación con un lenguaje mas fácil. Primero, tenía que ser fácil de leer. Segundo, dejar crear a los usuarios sus propios paquetes de programación con algún propósito en especial. Y por último, un nombre corto y misterioso.\n"
   ]
  }
 ],
 "metadata": {
  "kernelspec": {
   "display_name": "Python 3",
   "language": "python",
   "name": "python3"
  },
  "language_info": {
   "codemirror_mode": {
    "name": "ipython",
    "version": 3
   },
   "file_extension": ".py",
   "mimetype": "text/x-python",
   "name": "python",
   "nbconvert_exporter": "python",
   "pygments_lexer": "ipython3",
   "version": "3.7.1"
  }
 },
 "nbformat": 4,
 "nbformat_minor": 2
}
